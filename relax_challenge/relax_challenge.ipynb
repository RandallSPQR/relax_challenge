{
 "cells": [
  {
   "cell_type": "code",
   "execution_count": null,
   "metadata": {
    "collapsed": true
   },
   "outputs": [],
   "source": []
  },
  {
   "cell_type": "code",
   "execution_count": 1,
   "metadata": {
    "collapsed": true
   },
   "outputs": [],
   "source": [
    "import pandas as pd\n",
    "import numpy as np\n",
    "import matplotlib.pyplot as plt\n",
    "import seaborn as sns\n",
    "import datetime\n",
    "\n",
    "%matplotlib inline"
   ]
  },
  {
   "cell_type": "code",
   "execution_count": 2,
   "metadata": {
    "collapsed": false
   },
   "outputs": [
    {
     "data": {
      "text/html": [
       "<div>\n",
       "<table border=\"1\" class=\"dataframe\">\n",
       "  <thead>\n",
       "    <tr style=\"text-align: right;\">\n",
       "      <th></th>\n",
       "      <th>time_stamp</th>\n",
       "      <th>user_id</th>\n",
       "      <th>visited</th>\n",
       "    </tr>\n",
       "  </thead>\n",
       "  <tbody>\n",
       "    <tr>\n",
       "      <th>0</th>\n",
       "      <td>2014-04-22 03:53:30</td>\n",
       "      <td>1</td>\n",
       "      <td>1</td>\n",
       "    </tr>\n",
       "    <tr>\n",
       "      <th>1</th>\n",
       "      <td>2013-11-15 03:45:04</td>\n",
       "      <td>2</td>\n",
       "      <td>1</td>\n",
       "    </tr>\n",
       "    <tr>\n",
       "      <th>2</th>\n",
       "      <td>2013-11-29 03:45:04</td>\n",
       "      <td>2</td>\n",
       "      <td>1</td>\n",
       "    </tr>\n",
       "    <tr>\n",
       "      <th>3</th>\n",
       "      <td>2013-12-09 03:45:04</td>\n",
       "      <td>2</td>\n",
       "      <td>1</td>\n",
       "    </tr>\n",
       "    <tr>\n",
       "      <th>4</th>\n",
       "      <td>2013-12-25 03:45:04</td>\n",
       "      <td>2</td>\n",
       "      <td>1</td>\n",
       "    </tr>\n",
       "  </tbody>\n",
       "</table>\n",
       "</div>"
      ],
      "text/plain": [
       "            time_stamp  user_id  visited\n",
       "0  2014-04-22 03:53:30        1        1\n",
       "1  2013-11-15 03:45:04        2        1\n",
       "2  2013-11-29 03:45:04        2        1\n",
       "3  2013-12-09 03:45:04        2        1\n",
       "4  2013-12-25 03:45:04        2        1"
      ]
     },
     "execution_count": 2,
     "metadata": {},
     "output_type": "execute_result"
    }
   ],
   "source": [
    "engagement_df = pd.read_csv('takehome_user_engagement.csv')\n",
    "engagement_df.head()"
   ]
  },
  {
   "cell_type": "code",
   "execution_count": 3,
   "metadata": {
    "collapsed": false
   },
   "outputs": [
    {
     "name": "stdout",
     "output_type": "stream",
     "text": [
      "<class 'pandas.core.frame.DataFrame'>\n",
      "RangeIndex: 207917 entries, 0 to 207916\n",
      "Data columns (total 3 columns):\n",
      "time_stamp    207917 non-null object\n",
      "user_id       207917 non-null int64\n",
      "visited       207917 non-null int64\n",
      "dtypes: int64(2), object(1)\n",
      "memory usage: 4.8+ MB\n"
     ]
    }
   ],
   "source": [
    "engagement_df.info()"
   ]
  },
  {
   "cell_type": "code",
   "execution_count": 4,
   "metadata": {
    "collapsed": false
   },
   "outputs": [
    {
     "data": {
      "text/html": [
       "<div>\n",
       "<table border=\"1\" class=\"dataframe\">\n",
       "  <thead>\n",
       "    <tr style=\"text-align: right;\">\n",
       "      <th></th>\n",
       "      <th>object_id</th>\n",
       "      <th>creation_time</th>\n",
       "      <th>name</th>\n",
       "      <th>email</th>\n",
       "      <th>creation_source</th>\n",
       "      <th>last_session_creation_time</th>\n",
       "      <th>opted_in_to_mailing_list</th>\n",
       "      <th>enabled_for_marketing_drip</th>\n",
       "      <th>org_id</th>\n",
       "      <th>invited_by_user_id</th>\n",
       "    </tr>\n",
       "  </thead>\n",
       "  <tbody>\n",
       "    <tr>\n",
       "      <th>0</th>\n",
       "      <td>1</td>\n",
       "      <td>2014-04-22 03:53:30</td>\n",
       "      <td>Clausen August</td>\n",
       "      <td>AugustCClausen@yahoo.com</td>\n",
       "      <td>GUEST_INVITE</td>\n",
       "      <td>1.398139e+09</td>\n",
       "      <td>1</td>\n",
       "      <td>0</td>\n",
       "      <td>11</td>\n",
       "      <td>10803.0</td>\n",
       "    </tr>\n",
       "    <tr>\n",
       "      <th>1</th>\n",
       "      <td>2</td>\n",
       "      <td>2013-11-15 03:45:04</td>\n",
       "      <td>Poole Matthew</td>\n",
       "      <td>MatthewPoole@gustr.com</td>\n",
       "      <td>ORG_INVITE</td>\n",
       "      <td>1.396238e+09</td>\n",
       "      <td>0</td>\n",
       "      <td>0</td>\n",
       "      <td>1</td>\n",
       "      <td>316.0</td>\n",
       "    </tr>\n",
       "    <tr>\n",
       "      <th>2</th>\n",
       "      <td>3</td>\n",
       "      <td>2013-03-19 23:14:52</td>\n",
       "      <td>Bottrill Mitchell</td>\n",
       "      <td>MitchellBottrill@gustr.com</td>\n",
       "      <td>ORG_INVITE</td>\n",
       "      <td>1.363735e+09</td>\n",
       "      <td>0</td>\n",
       "      <td>0</td>\n",
       "      <td>94</td>\n",
       "      <td>1525.0</td>\n",
       "    </tr>\n",
       "    <tr>\n",
       "      <th>3</th>\n",
       "      <td>4</td>\n",
       "      <td>2013-05-21 08:09:28</td>\n",
       "      <td>Clausen Nicklas</td>\n",
       "      <td>NicklasSClausen@yahoo.com</td>\n",
       "      <td>GUEST_INVITE</td>\n",
       "      <td>1.369210e+09</td>\n",
       "      <td>0</td>\n",
       "      <td>0</td>\n",
       "      <td>1</td>\n",
       "      <td>5151.0</td>\n",
       "    </tr>\n",
       "    <tr>\n",
       "      <th>4</th>\n",
       "      <td>5</td>\n",
       "      <td>2013-01-17 10:14:20</td>\n",
       "      <td>Raw Grace</td>\n",
       "      <td>GraceRaw@yahoo.com</td>\n",
       "      <td>GUEST_INVITE</td>\n",
       "      <td>1.358850e+09</td>\n",
       "      <td>0</td>\n",
       "      <td>0</td>\n",
       "      <td>193</td>\n",
       "      <td>5240.0</td>\n",
       "    </tr>\n",
       "  </tbody>\n",
       "</table>\n",
       "</div>"
      ],
      "text/plain": [
       "   object_id        creation_time               name  \\\n",
       "0          1  2014-04-22 03:53:30     Clausen August   \n",
       "1          2  2013-11-15 03:45:04      Poole Matthew   \n",
       "2          3  2013-03-19 23:14:52  Bottrill Mitchell   \n",
       "3          4  2013-05-21 08:09:28    Clausen Nicklas   \n",
       "4          5  2013-01-17 10:14:20          Raw Grace   \n",
       "\n",
       "                        email creation_source  last_session_creation_time  \\\n",
       "0    AugustCClausen@yahoo.com    GUEST_INVITE                1.398139e+09   \n",
       "1      MatthewPoole@gustr.com      ORG_INVITE                1.396238e+09   \n",
       "2  MitchellBottrill@gustr.com      ORG_INVITE                1.363735e+09   \n",
       "3   NicklasSClausen@yahoo.com    GUEST_INVITE                1.369210e+09   \n",
       "4          GraceRaw@yahoo.com    GUEST_INVITE                1.358850e+09   \n",
       "\n",
       "   opted_in_to_mailing_list  enabled_for_marketing_drip  org_id  \\\n",
       "0                         1                           0      11   \n",
       "1                         0                           0       1   \n",
       "2                         0                           0      94   \n",
       "3                         0                           0       1   \n",
       "4                         0                           0     193   \n",
       "\n",
       "   invited_by_user_id  \n",
       "0             10803.0  \n",
       "1               316.0  \n",
       "2              1525.0  \n",
       "3              5151.0  \n",
       "4              5240.0  "
      ]
     },
     "execution_count": 4,
     "metadata": {},
     "output_type": "execute_result"
    }
   ],
   "source": [
    "users_df = pd.read_csv('takehome_users.csv')\n",
    "users_df.head()"
   ]
  },
  {
   "cell_type": "code",
   "execution_count": 5,
   "metadata": {
    "collapsed": true
   },
   "outputs": [],
   "source": [
    "users_df.rename(columns={'object_id': 'user_id'}, inplace=True)"
   ]
  },
  {
   "cell_type": "markdown",
   "metadata": {},
   "source": [
    "### Some Data Cleaning & A New Metric\n",
    "\n",
    "In the end we have to create a  value that is \"an  \"adopted  user\"   as  a  user  who   has  logged  into  the  product  on  three  separate\n",
    "days  in  at  least  one  seven­day  period\""
   ]
  },
  {
   "cell_type": "code",
   "execution_count": 6,
   "metadata": {
    "collapsed": false
   },
   "outputs": [],
   "source": [
    "# The easy part is getting a list of everyone that has logged in at least 3X\n",
    "engagement_counts = engagement_df[\"user_id\"].value_counts()\n",
    "engaged_3x = pd.DataFrame(engagement_counts[engagement_counts >= 3]).reset_index()"
   ]
  },
  {
   "cell_type": "code",
   "execution_count": 7,
   "metadata": {
    "collapsed": false
   },
   "outputs": [
    {
     "data": {
      "text/html": [
       "<div>\n",
       "<table border=\"1\" class=\"dataframe\">\n",
       "  <thead>\n",
       "    <tr style=\"text-align: right;\">\n",
       "      <th></th>\n",
       "      <th>index</th>\n",
       "      <th>user_id</th>\n",
       "    </tr>\n",
       "  </thead>\n",
       "  <tbody>\n",
       "    <tr>\n",
       "      <th>2243</th>\n",
       "      <td>6090</td>\n",
       "      <td>3</td>\n",
       "    </tr>\n",
       "    <tr>\n",
       "      <th>2244</th>\n",
       "      <td>8464</td>\n",
       "      <td>3</td>\n",
       "    </tr>\n",
       "    <tr>\n",
       "      <th>2245</th>\n",
       "      <td>5528</td>\n",
       "      <td>3</td>\n",
       "    </tr>\n",
       "    <tr>\n",
       "      <th>2246</th>\n",
       "      <td>6900</td>\n",
       "      <td>3</td>\n",
       "    </tr>\n",
       "    <tr>\n",
       "      <th>2247</th>\n",
       "      <td>7310</td>\n",
       "      <td>3</td>\n",
       "    </tr>\n",
       "  </tbody>\n",
       "</table>\n",
       "</div>"
      ],
      "text/plain": [
       "      index  user_id\n",
       "2243   6090        3\n",
       "2244   8464        3\n",
       "2245   5528        3\n",
       "2246   6900        3\n",
       "2247   7310        3"
      ]
     },
     "execution_count": 7,
     "metadata": {},
     "output_type": "execute_result"
    }
   ],
   "source": [
    "engaged_3x.tail()\n",
    "#Now how many of them at within a 7day timeframe...? Tricky."
   ]
  },
  {
   "cell_type": "code",
   "execution_count": 8,
   "metadata": {
    "collapsed": true
   },
   "outputs": [],
   "source": [
    "engaged_3x.rename(columns={'user_id': 'login_counts','index': 'user_id' }, inplace=True)"
   ]
  },
  {
   "cell_type": "code",
   "execution_count": 9,
   "metadata": {
    "collapsed": true
   },
   "outputs": [],
   "source": [
    "# start with time_stamp to dt\n",
    "engagement_df['time_stamp'] = pd.to_datetime(engagement_df['time_stamp'])"
   ]
  },
  {
   "cell_type": "code",
   "execution_count": 10,
   "metadata": {
    "collapsed": false
   },
   "outputs": [
    {
     "data": {
      "text/html": [
       "<div>\n",
       "<table border=\"1\" class=\"dataframe\">\n",
       "  <thead>\n",
       "    <tr style=\"text-align: right;\">\n",
       "      <th></th>\n",
       "      <th>time_stamp</th>\n",
       "      <th>user_id</th>\n",
       "      <th>visited</th>\n",
       "    </tr>\n",
       "  </thead>\n",
       "  <tbody>\n",
       "    <tr>\n",
       "      <th>0</th>\n",
       "      <td>2014-04-22 03:53:30</td>\n",
       "      <td>1</td>\n",
       "      <td>1</td>\n",
       "    </tr>\n",
       "    <tr>\n",
       "      <th>1</th>\n",
       "      <td>2013-11-15 03:45:04</td>\n",
       "      <td>2</td>\n",
       "      <td>1</td>\n",
       "    </tr>\n",
       "    <tr>\n",
       "      <th>2</th>\n",
       "      <td>2013-11-29 03:45:04</td>\n",
       "      <td>2</td>\n",
       "      <td>1</td>\n",
       "    </tr>\n",
       "    <tr>\n",
       "      <th>3</th>\n",
       "      <td>2013-12-09 03:45:04</td>\n",
       "      <td>2</td>\n",
       "      <td>1</td>\n",
       "    </tr>\n",
       "    <tr>\n",
       "      <th>4</th>\n",
       "      <td>2013-12-25 03:45:04</td>\n",
       "      <td>2</td>\n",
       "      <td>1</td>\n",
       "    </tr>\n",
       "  </tbody>\n",
       "</table>\n",
       "</div>"
      ],
      "text/plain": [
       "           time_stamp  user_id  visited\n",
       "0 2014-04-22 03:53:30        1        1\n",
       "1 2013-11-15 03:45:04        2        1\n",
       "2 2013-11-29 03:45:04        2        1\n",
       "3 2013-12-09 03:45:04        2        1\n",
       "4 2013-12-25 03:45:04        2        1"
      ]
     },
     "execution_count": 10,
     "metadata": {},
     "output_type": "execute_result"
    }
   ],
   "source": [
    "engagement_df.head()"
   ]
  },
  {
   "cell_type": "code",
   "execution_count": 11,
   "metadata": {
    "collapsed": true
   },
   "outputs": [],
   "source": [
    "#lets set a time delta for logic\n",
    "seven_days = datetime.timedelta(7)"
   ]
  },
  {
   "cell_type": "code",
   "execution_count": 12,
   "metadata": {
    "collapsed": false
   },
   "outputs": [],
   "source": [
    "for user_id in engaged_3x.user_id:\n",
    "    \n",
    "    #get me all of the user logins for a unique User ID\n",
    "    uts = engagement_df[engagement_df['user_id'] == 2]\n",
    "    uts = uts.sort_values('time_stamp')\n",
    "    uts['time_stamp_3'] = uts['time_stamp'].shift(-2)"
   ]
  },
  {
   "cell_type": "code",
   "execution_count": 13,
   "metadata": {
    "collapsed": false
   },
   "outputs": [
    {
     "data": {
      "text/html": [
       "<div>\n",
       "<table border=\"1\" class=\"dataframe\">\n",
       "  <thead>\n",
       "    <tr style=\"text-align: right;\">\n",
       "      <th></th>\n",
       "      <th>time_stamp</th>\n",
       "      <th>user_id</th>\n",
       "      <th>visited</th>\n",
       "      <th>time_stamp_3</th>\n",
       "    </tr>\n",
       "  </thead>\n",
       "  <tbody>\n",
       "    <tr>\n",
       "      <th>1</th>\n",
       "      <td>2013-11-15 03:45:04</td>\n",
       "      <td>2</td>\n",
       "      <td>1</td>\n",
       "      <td>2013-12-09 03:45:04</td>\n",
       "    </tr>\n",
       "    <tr>\n",
       "      <th>2</th>\n",
       "      <td>2013-11-29 03:45:04</td>\n",
       "      <td>2</td>\n",
       "      <td>1</td>\n",
       "      <td>2013-12-25 03:45:04</td>\n",
       "    </tr>\n",
       "    <tr>\n",
       "      <th>3</th>\n",
       "      <td>2013-12-09 03:45:04</td>\n",
       "      <td>2</td>\n",
       "      <td>1</td>\n",
       "      <td>2013-12-31 03:45:04</td>\n",
       "    </tr>\n",
       "    <tr>\n",
       "      <th>4</th>\n",
       "      <td>2013-12-25 03:45:04</td>\n",
       "      <td>2</td>\n",
       "      <td>1</td>\n",
       "      <td>2014-01-08 03:45:04</td>\n",
       "    </tr>\n",
       "    <tr>\n",
       "      <th>5</th>\n",
       "      <td>2013-12-31 03:45:04</td>\n",
       "      <td>2</td>\n",
       "      <td>1</td>\n",
       "      <td>2014-02-03 03:45:04</td>\n",
       "    </tr>\n",
       "    <tr>\n",
       "      <th>6</th>\n",
       "      <td>2014-01-08 03:45:04</td>\n",
       "      <td>2</td>\n",
       "      <td>1</td>\n",
       "      <td>2014-02-08 03:45:04</td>\n",
       "    </tr>\n",
       "    <tr>\n",
       "      <th>7</th>\n",
       "      <td>2014-02-03 03:45:04</td>\n",
       "      <td>2</td>\n",
       "      <td>1</td>\n",
       "      <td>2014-02-09 03:45:04</td>\n",
       "    </tr>\n",
       "    <tr>\n",
       "      <th>8</th>\n",
       "      <td>2014-02-08 03:45:04</td>\n",
       "      <td>2</td>\n",
       "      <td>1</td>\n",
       "      <td>2014-02-13 03:45:04</td>\n",
       "    </tr>\n",
       "    <tr>\n",
       "      <th>9</th>\n",
       "      <td>2014-02-09 03:45:04</td>\n",
       "      <td>2</td>\n",
       "      <td>1</td>\n",
       "      <td>2014-02-16 03:45:04</td>\n",
       "    </tr>\n",
       "    <tr>\n",
       "      <th>10</th>\n",
       "      <td>2014-02-13 03:45:04</td>\n",
       "      <td>2</td>\n",
       "      <td>1</td>\n",
       "      <td>2014-03-09 03:45:04</td>\n",
       "    </tr>\n",
       "    <tr>\n",
       "      <th>11</th>\n",
       "      <td>2014-02-16 03:45:04</td>\n",
       "      <td>2</td>\n",
       "      <td>1</td>\n",
       "      <td>2014-03-13 03:45:04</td>\n",
       "    </tr>\n",
       "    <tr>\n",
       "      <th>12</th>\n",
       "      <td>2014-03-09 03:45:04</td>\n",
       "      <td>2</td>\n",
       "      <td>1</td>\n",
       "      <td>2014-03-31 03:45:04</td>\n",
       "    </tr>\n",
       "    <tr>\n",
       "      <th>13</th>\n",
       "      <td>2014-03-13 03:45:04</td>\n",
       "      <td>2</td>\n",
       "      <td>1</td>\n",
       "      <td>NaT</td>\n",
       "    </tr>\n",
       "    <tr>\n",
       "      <th>14</th>\n",
       "      <td>2014-03-31 03:45:04</td>\n",
       "      <td>2</td>\n",
       "      <td>1</td>\n",
       "      <td>NaT</td>\n",
       "    </tr>\n",
       "  </tbody>\n",
       "</table>\n",
       "</div>"
      ],
      "text/plain": [
       "            time_stamp  user_id  visited        time_stamp_3\n",
       "1  2013-11-15 03:45:04        2        1 2013-12-09 03:45:04\n",
       "2  2013-11-29 03:45:04        2        1 2013-12-25 03:45:04\n",
       "3  2013-12-09 03:45:04        2        1 2013-12-31 03:45:04\n",
       "4  2013-12-25 03:45:04        2        1 2014-01-08 03:45:04\n",
       "5  2013-12-31 03:45:04        2        1 2014-02-03 03:45:04\n",
       "6  2014-01-08 03:45:04        2        1 2014-02-08 03:45:04\n",
       "7  2014-02-03 03:45:04        2        1 2014-02-09 03:45:04\n",
       "8  2014-02-08 03:45:04        2        1 2014-02-13 03:45:04\n",
       "9  2014-02-09 03:45:04        2        1 2014-02-16 03:45:04\n",
       "10 2014-02-13 03:45:04        2        1 2014-03-09 03:45:04\n",
       "11 2014-02-16 03:45:04        2        1 2014-03-13 03:45:04\n",
       "12 2014-03-09 03:45:04        2        1 2014-03-31 03:45:04\n",
       "13 2014-03-13 03:45:04        2        1                 NaT\n",
       "14 2014-03-31 03:45:04        2        1                 NaT"
      ]
     },
     "execution_count": 13,
     "metadata": {},
     "output_type": "execute_result"
    }
   ],
   "source": [
    "uts"
   ]
  },
  {
   "cell_type": "code",
   "execution_count": 14,
   "metadata": {
    "collapsed": false
   },
   "outputs": [
    {
     "data": {
      "text/plain": [
       "True"
      ]
     },
     "execution_count": 14,
     "metadata": {},
     "output_type": "execute_result"
    }
   ],
   "source": [
    "(uts.time_stamp <= (uts.time_stamp_3 - seven_days)).any()"
   ]
  },
  {
   "cell_type": "code",
   "execution_count": null,
   "metadata": {
    "collapsed": true
   },
   "outputs": [],
   "source": []
  },
  {
   "cell_type": "code",
   "execution_count": 15,
   "metadata": {
    "collapsed": false
   },
   "outputs": [],
   "source": [
    "#Load an empty Dict\n",
    "auser_dict = {}\n",
    "\n",
    "\"\"\"\n",
    "Some of this control logic comes from the internet, \n",
    " I Googled an answer that helped me work out my own different solution, but without resetting to False.  \n",
    "Credit - https://github.com/dpalbrecht/Relax-Data-Challenge/\n",
    "\n",
    "\"\"\"\n",
    "\n",
    "#for all the users the engaged at least 3X\n",
    "for user_id in engaged_3x.user_id:\n",
    "    #You have to Set something to start\n",
    "    adopted_user = False\n",
    "    #get me all of the user logins for Each Unique User ID\n",
    "    uts = engagement_df[engagement_df['user_id'] == user_id]\n",
    "    uts = uts.sort_values('time_stamp')\n",
    "    uts['time_stamp_3'] = uts['time_stamp'].shift(-2)\n",
    "    \n",
    "    #now go through those rows\n",
    "    for row in uts.iterrows():\n",
    "        #If you are True, don't undo the logic and make them false if they go cold later, this was tripping me up. \n",
    "        if adopted_user == True:\n",
    "            continue\n",
    "        #Get the times\n",
    "        time_one = uts.time_stamp\n",
    "        time_three = uts.time_stamp_3\n",
    "        #do the 7day logic \n",
    "        if (time_one >= (time_three - seven_days)).any():\n",
    "            adopted_user = True\n",
    "    #Set User Status\n",
    "    auser_dict[user_id] = adopted_user"
   ]
  },
  {
   "cell_type": "code",
   "execution_count": 16,
   "metadata": {
    "collapsed": false
   },
   "outputs": [
    {
     "data": {
      "text/plain": [
       "{8192: True,\n",
       " 2: True,\n",
       " 8196: True,\n",
       " 8201: True,\n",
       " 10: True,\n",
       " 8206: True,\n",
       " 20: True,\n",
       " 8214: True,\n",
       " 8217: True,\n",
       " 8220: True,\n",
       " 8221: True,\n",
       " 33: True,\n",
       " 8232: True,\n",
       " 8233: True,\n",
       " 42: True,\n",
       " 8235: True,\n",
       " 8239: True,\n",
       " 50: True,\n",
       " 8243: True,\n",
       " 53: True,\n",
       " 59: True,\n",
       " 8252: True,\n",
       " 8254: True,\n",
       " 63: True,\n",
       " 8258: True,\n",
       " 8259: True,\n",
       " 69: True,\n",
       " 8265: True,\n",
       " 74: True,\n",
       " 8269: True,\n",
       " 8270: True,\n",
       " 80: True,\n",
       " 81: True,\n",
       " 82: True,\n",
       " 9571: True,\n",
       " 8277: True,\n",
       " 8278: True,\n",
       " 87: True,\n",
       " 8280: True,\n",
       " 8286: True,\n",
       " 95: True,\n",
       " 8294: True,\n",
       " 8297: True,\n",
       " 8302: True,\n",
       " 8310: True,\n",
       " 8311: True,\n",
       " 8312: True,\n",
       " 8314: True,\n",
       " 126: True,\n",
       " 8319: True,\n",
       " 133: True,\n",
       " 135: True,\n",
       " 136: True,\n",
       " 141: True,\n",
       " 8334: True,\n",
       " 8337: True,\n",
       " 146: True,\n",
       " 153: True,\n",
       " 8348: True,\n",
       " 160: True,\n",
       " 165: True,\n",
       " 168: True,\n",
       " 171: True,\n",
       " 172: True,\n",
       " 8366: True,\n",
       " 8367: True,\n",
       " 8371: True,\n",
       " 185: True,\n",
       " 188: True,\n",
       " 8381: True,\n",
       " 8383: True,\n",
       " 197: True,\n",
       " 200: True,\n",
       " 8393: True,\n",
       " 202: True,\n",
       " 203: True,\n",
       " 8399: True,\n",
       " 209: True,\n",
       " 8403: True,\n",
       " 214: True,\n",
       " 8408: True,\n",
       " 221: True,\n",
       " 8415: True,\n",
       " 230: True,\n",
       " 8426: True,\n",
       " 241: True,\n",
       " 8435: True,\n",
       " 245: True,\n",
       " 247: True,\n",
       " 8440: True,\n",
       " 8442: True,\n",
       " 251: True,\n",
       " 8448: True,\n",
       " 43: True,\n",
       " 263: True,\n",
       " 265: True,\n",
       " 8460: True,\n",
       " 8462: True,\n",
       " 8463: True,\n",
       " 8464: True,\n",
       " 8465: True,\n",
       " 8466: True,\n",
       " 275: True,\n",
       " 277: True,\n",
       " 280: True,\n",
       " 283: True,\n",
       " 297: True,\n",
       " 298: True,\n",
       " 8493: True,\n",
       " 305: True,\n",
       " 310: True,\n",
       " 311: True,\n",
       " 8505: True,\n",
       " 8507: True,\n",
       " 8508: True,\n",
       " 8511: True,\n",
       " 321: True,\n",
       " 322: True,\n",
       " 330: True,\n",
       " 8523: True,\n",
       " 337: True,\n",
       " 341: True,\n",
       " 345: True,\n",
       " 8538: True,\n",
       " 347: True,\n",
       " 351: True,\n",
       " 8553: True,\n",
       " 362: True,\n",
       " 363: True,\n",
       " 367: True,\n",
       " 370: True,\n",
       " 8564: True,\n",
       " 375: True,\n",
       " 8569: True,\n",
       " 8571: True,\n",
       " 382: True,\n",
       " 383: True,\n",
       " 8581: True,\n",
       " 390: True,\n",
       " 8585: True,\n",
       " 397: True,\n",
       " 398: True,\n",
       " 8593: True,\n",
       " 8595: True,\n",
       " 8601: True,\n",
       " 8602: True,\n",
       " 8604: True,\n",
       " 417: True,\n",
       " 418: True,\n",
       " 8615: True,\n",
       " 430: True,\n",
       " 8629: True,\n",
       " 445: True,\n",
       " 8639: True,\n",
       " 8640: True,\n",
       " 450: True,\n",
       " 9633: True,\n",
       " 460: True,\n",
       " 8654: True,\n",
       " 77: True,\n",
       " 469: True,\n",
       " 471: True,\n",
       " 472: True,\n",
       " 8666: True,\n",
       " 478: True,\n",
       " 479: True,\n",
       " 8673: True,\n",
       " 483: True,\n",
       " 8677: True,\n",
       " 8679: True,\n",
       " 492: True,\n",
       " 8685: True,\n",
       " 494: True,\n",
       " 497: True,\n",
       " 502: True,\n",
       " 8695: True,\n",
       " 506: True,\n",
       " 8701: True,\n",
       " 510: True,\n",
       " 511: True,\n",
       " 512: True,\n",
       " 8706: True,\n",
       " 8708: True,\n",
       " 518: True,\n",
       " 520: True,\n",
       " 522: True,\n",
       " 2818: True,\n",
       " 528: True,\n",
       " 8721: True,\n",
       " 8725: True,\n",
       " 535: True,\n",
       " 540: True,\n",
       " 543: True,\n",
       " 547: True,\n",
       " 8740: True,\n",
       " 8741: True,\n",
       " 553: True,\n",
       " 555: True,\n",
       " 8749: True,\n",
       " 8750: True,\n",
       " 561: True,\n",
       " 564: True,\n",
       " 8758: True,\n",
       " 8759: True,\n",
       " 8760: True,\n",
       " 572: True,\n",
       " 8767: True,\n",
       " 8768: True,\n",
       " 8769: True,\n",
       " 8770: True,\n",
       " 2827: True,\n",
       " 8779: True,\n",
       " 589: True,\n",
       " 591: True,\n",
       " 8789: True,\n",
       " 8790: True,\n",
       " 601: True,\n",
       " 603: True,\n",
       " 605: True,\n",
       " 607: True,\n",
       " 608: True,\n",
       " 11024: True,\n",
       " 8802: True,\n",
       " 8803: True,\n",
       " 8806: True,\n",
       " 8809: True,\n",
       " 618: True,\n",
       " 8811: True,\n",
       " 627: True,\n",
       " 628: True,\n",
       " 632: True,\n",
       " 634: True,\n",
       " 8827: True,\n",
       " 639: True,\n",
       " 8832: True,\n",
       " 8835: True,\n",
       " 8837: True,\n",
       " 649: True,\n",
       " 8856: True,\n",
       " 8857: True,\n",
       " 8860: True,\n",
       " 669: True,\n",
       " 8862: True,\n",
       " 8864: True,\n",
       " 8867: True,\n",
       " 8869: True,\n",
       " 679: True,\n",
       " 680: True,\n",
       " 8876: True,\n",
       " 8877: True,\n",
       " 8880: True,\n",
       " 8884: True,\n",
       " 8899: True,\n",
       " 710: True,\n",
       " 715: True,\n",
       " 716: True,\n",
       " 717: True,\n",
       " 8912: True,\n",
       " 724: True,\n",
       " 725: True,\n",
       " 8918: True,\n",
       " 8919: True,\n",
       " 728: True,\n",
       " 8924: True,\n",
       " 736: True,\n",
       " 738: True,\n",
       " 8932: True,\n",
       " 8938: True,\n",
       " 8940: True,\n",
       " 8944: True,\n",
       " 8945: True,\n",
       " 754: True,\n",
       " 8952: True,\n",
       " 8955: True,\n",
       " 8957: True,\n",
       " 772: True,\n",
       " 8971: True,\n",
       " 8973: True,\n",
       " 783: True,\n",
       " 786: True,\n",
       " 788: True,\n",
       " 793: True,\n",
       " 8989: True,\n",
       " 8994: True,\n",
       " 8995: True,\n",
       " 804: True,\n",
       " 814: True,\n",
       " 815: True,\n",
       " 817: True,\n",
       " 9011: True,\n",
       " 9013: True,\n",
       " 828: True,\n",
       " 9030: True,\n",
       " 9031: True,\n",
       " 60: True,\n",
       " 845: True,\n",
       " 9039: True,\n",
       " 9042: True,\n",
       " 851: True,\n",
       " 142: True,\n",
       " 9046: True,\n",
       " 2873: True,\n",
       " 9055: True,\n",
       " 9056: True,\n",
       " 9060: True,\n",
       " 869: True,\n",
       " 9062: True,\n",
       " 874: True,\n",
       " 9067: True,\n",
       " 10122: True,\n",
       " 11486: True,\n",
       " 882: True,\n",
       " 9076: True,\n",
       " 885: True,\n",
       " 9079: True,\n",
       " 575: True,\n",
       " 9083: True,\n",
       " 9085: True,\n",
       " 9088: True,\n",
       " 9089: True,\n",
       " 901: True,\n",
       " 906: True,\n",
       " 907: True,\n",
       " 912: True,\n",
       " 9112: True,\n",
       " 9113: True,\n",
       " 9120: True,\n",
       " 932: True,\n",
       " 934: True,\n",
       " 937: True,\n",
       " 943: True,\n",
       " 9137: True,\n",
       " 946: True,\n",
       " 9142: True,\n",
       " 9143: True,\n",
       " 953: True,\n",
       " 9147: True,\n",
       " 850: True,\n",
       " 9717: True,\n",
       " 9154: True,\n",
       " 11083: True,\n",
       " 9157: True,\n",
       " 9162: True,\n",
       " 9164: True,\n",
       " 980: True,\n",
       " 985: True,\n",
       " 9178: True,\n",
       " 991: True,\n",
       " 994: True,\n",
       " 9187: True,\n",
       " 999: True,\n",
       " 9195: True,\n",
       " 9196: True,\n",
       " 1007: True,\n",
       " 1009: True,\n",
       " 9202: True,\n",
       " 1013: True,\n",
       " 9207: True,\n",
       " 1017: True,\n",
       " 1018: True,\n",
       " 9211: True,\n",
       " 1026: True,\n",
       " 1027: True,\n",
       " 9222: True,\n",
       " 1035: True,\n",
       " 9229: True,\n",
       " 1039: True,\n",
       " 9232: True,\n",
       " 174: True,\n",
       " 1049: True,\n",
       " 1055: True,\n",
       " 1061: True,\n",
       " 1064: True,\n",
       " 9257: True,\n",
       " 1072: True,\n",
       " 9265: True,\n",
       " 9269: True,\n",
       " 1087: True,\n",
       " 1088: True,\n",
       " 9281: True,\n",
       " 9284: True,\n",
       " 1093: True,\n",
       " 1094: True,\n",
       " 9288: True,\n",
       " 9290: True,\n",
       " 1099: True,\n",
       " 9295: True,\n",
       " 9297: True,\n",
       " 1106: True,\n",
       " 1107: True,\n",
       " 9303: True,\n",
       " 9306: True,\n",
       " 1119: True,\n",
       " 9312: True,\n",
       " 1123: True,\n",
       " 1124: True,\n",
       " 1125: True,\n",
       " 9318: True,\n",
       " 1128: True,\n",
       " 1129: True,\n",
       " 9322: True,\n",
       " 9325: True,\n",
       " 1136: True,\n",
       " 1555: True,\n",
       " 1140: True,\n",
       " 1141: True,\n",
       " 1145: True,\n",
       " 1147: True,\n",
       " 1149: True,\n",
       " 1150: True,\n",
       " 9343: True,\n",
       " 9344: True,\n",
       " 9345: True,\n",
       " 9346: True,\n",
       " 1155: True,\n",
       " 1156: True,\n",
       " 9349: True,\n",
       " 1162: True,\n",
       " 1163: True,\n",
       " 9358: True,\n",
       " 9359: True,\n",
       " 9362: True,\n",
       " 1173: True,\n",
       " 1178: True,\n",
       " 1562: True,\n",
       " 9374: True,\n",
       " 1186: True,\n",
       " 9381: True,\n",
       " 9383: True,\n",
       " 1196: True,\n",
       " 1197: True,\n",
       " 9390: True,\n",
       " 1202: True,\n",
       " 11123: True,\n",
       " 9400: True,\n",
       " 9402: True,\n",
       " 1212: True,\n",
       " 8394: True,\n",
       " 1214: True,\n",
       " 1222: True,\n",
       " 1227: True,\n",
       " 9423: True,\n",
       " 1233: True,\n",
       " 1235: True,\n",
       " 1238: True,\n",
       " 9432: True,\n",
       " 9434: True,\n",
       " 9435: True,\n",
       " 9436: True,\n",
       " 1245: True,\n",
       " 1250: True,\n",
       " 9445: True,\n",
       " 8401: True,\n",
       " 9450: True,\n",
       " 9768: True,\n",
       " 9461: True,\n",
       " 9464: True,\n",
       " 1274: True,\n",
       " 9470: True,\n",
       " 1280: True,\n",
       " 9477: True,\n",
       " 9479: True,\n",
       " 9481: True,\n",
       " 1290: True,\n",
       " 9486: True,\n",
       " 1297: True,\n",
       " 1299: True,\n",
       " 9495: True,\n",
       " 1311: True,\n",
       " 9504: True,\n",
       " 9506: True,\n",
       " 9510: True,\n",
       " 1319: True,\n",
       " 1320: True,\n",
       " 1321: True,\n",
       " 1327: True,\n",
       " 11144: True,\n",
       " 9524: True,\n",
       " 9528: True,\n",
       " 1339: True,\n",
       " 9532: True,\n",
       " 9535: True,\n",
       " 1345: True,\n",
       " 9540: True,\n",
       " 1350: True,\n",
       " 9546: True,\n",
       " 9547: True,\n",
       " 1357: True,\n",
       " 1361: True,\n",
       " 9558: True,\n",
       " 9559: True,\n",
       " 1368: True,\n",
       " 1379: True,\n",
       " 1380: True,\n",
       " 1385: True,\n",
       " 9580: True,\n",
       " 9582: True,\n",
       " 9584: True,\n",
       " 1396: True,\n",
       " 9591: True,\n",
       " 9593: True,\n",
       " 9597: True,\n",
       " 1407: True,\n",
       " 9601: True,\n",
       " 1410: True,\n",
       " 1411: True,\n",
       " 1421: True,\n",
       " 9615: True,\n",
       " 9616: True,\n",
       " 9623: True,\n",
       " 1434: True,\n",
       " 1439: True,\n",
       " 1440: True,\n",
       " 1441: True,\n",
       " 9635: True,\n",
       " 1445: True,\n",
       " 9641: True,\n",
       " 9644: True,\n",
       " 9645: True,\n",
       " 9652: True,\n",
       " 1464: True,\n",
       " 1466: True,\n",
       " 9660: True,\n",
       " 9661: True,\n",
       " 1472: True,\n",
       " 1476: True,\n",
       " 9670: True,\n",
       " 1479: True,\n",
       " 1480: True,\n",
       " 1481: True,\n",
       " 1485: True,\n",
       " 9679: True,\n",
       " 9683: True,\n",
       " 9684: True,\n",
       " 1496: True,\n",
       " 9691: True,\n",
       " 1500: True,\n",
       " 9694: True,\n",
       " 9695: True,\n",
       " 9696: True,\n",
       " 1506: True,\n",
       " 9699: True,\n",
       " 1508: True,\n",
       " 9704: True,\n",
       " 1525: True,\n",
       " 9721: True,\n",
       " 9722: True,\n",
       " 9724: True,\n",
       " 9727: True,\n",
       " 9728: True,\n",
       " 9737: True,\n",
       " 1546: True,\n",
       " 9742: True,\n",
       " 9746: True,\n",
       " 9747: True,\n",
       " 9750: True,\n",
       " 9751: True,\n",
       " 1561: True,\n",
       " 9754: True,\n",
       " 9764: True,\n",
       " 1576: True,\n",
       " 9771: True,\n",
       " 1581: True,\n",
       " 1592: True,\n",
       " 9786: True,\n",
       " 1598: True,\n",
       " 1600: True,\n",
       " 9795: True,\n",
       " 2998: True,\n",
       " 9806: True,\n",
       " 9807: True,\n",
       " 1617: True,\n",
       " 1621: True,\n",
       " 1624: True,\n",
       " 9819: True,\n",
       " 9821: True,\n",
       " 9823: True,\n",
       " 9825: True,\n",
       " 9833: True,\n",
       " 9835: True,\n",
       " 9837: True,\n",
       " 9839: True,\n",
       " 9841: True,\n",
       " 9843: True,\n",
       " 9845: True,\n",
       " 1641: True,\n",
       " 9850: True,\n",
       " 9852: True,\n",
       " 1663: True,\n",
       " 1665: True,\n",
       " 1666: True,\n",
       " 9863: True,\n",
       " 1672: True,\n",
       " 9868: True,\n",
       " 9870: True,\n",
       " 5741: True,\n",
       " 1681: True,\n",
       " 1685: True,\n",
       " 1689: True,\n",
       " 1690: True,\n",
       " 1691: True,\n",
       " 1693: True,\n",
       " 1694: True,\n",
       " 9889: True,\n",
       " 3014: True,\n",
       " 1702: True,\n",
       " 9897: True,\n",
       " 1706: True,\n",
       " 9901: True,\n",
       " 1714: True,\n",
       " 1716: True,\n",
       " 1717: True,\n",
       " 1720: True,\n",
       " 1722: True,\n",
       " 1726: True,\n",
       " 1730: True,\n",
       " 9925: True,\n",
       " 9927: True,\n",
       " 1740: True,\n",
       " 1741: True,\n",
       " 9934: True,\n",
       " 9936: True,\n",
       " 9939: True,\n",
       " 9940: True,\n",
       " 9941: True,\n",
       " 9942: True,\n",
       " 1753: True,\n",
       " 1754: True,\n",
       " 9947: True,\n",
       " 9948: True,\n",
       " 1758: True,\n",
       " 1759: True,\n",
       " 9958: True,\n",
       " 9959: True,\n",
       " 1769: True,\n",
       " 1770: True,\n",
       " 9963: True,\n",
       " 9965: True,\n",
       " 9968: True,\n",
       " 9972: True,\n",
       " 1781: True,\n",
       " 9974: True,\n",
       " 1783: True,\n",
       " 1784: True,\n",
       " 1786: True,\n",
       " 1787: True,\n",
       " 9985: True,\n",
       " 9991: True,\n",
       " 9992: True,\n",
       " 9994: True,\n",
       " 9999: True,\n",
       " 10002: True,\n",
       " 1811: True,\n",
       " 10006: True,\n",
       " 1816: True,\n",
       " 10011: True,\n",
       " 1820: True,\n",
       " 1821: True,\n",
       " 1822: True,\n",
       " 10015: True,\n",
       " 1825: True,\n",
       " 10020: True,\n",
       " 10022: True,\n",
       " 10023: True,\n",
       " 10025: True,\n",
       " 1671: True,\n",
       " 1836: True,\n",
       " 10030: True,\n",
       " 1844: True,\n",
       " 1845: True,\n",
       " 11231: True,\n",
       " 1858: True,\n",
       " 10053: True,\n",
       " 1864: True,\n",
       " 1865: True,\n",
       " 10058: True,\n",
       " 10059: True,\n",
       " 10062: True,\n",
       " 10064: True,\n",
       " 1875: True,\n",
       " 10070: True,\n",
       " 1879: True,\n",
       " 10074: True,\n",
       " 1885: True,\n",
       " 10079: True,\n",
       " 1891: True,\n",
       " 10084: True,\n",
       " 1897: True,\n",
       " 1901: True,\n",
       " 1907: True,\n",
       " 10100: True,\n",
       " 10102: True,\n",
       " 10104: True,\n",
       " 10115: True,\n",
       " 10118: True,\n",
       " 10121: True,\n",
       " 1930: True,\n",
       " 8514: True,\n",
       " 10126: True,\n",
       " 1941: True,\n",
       " 1944: True,\n",
       " 9882: True,\n",
       " 1954: True,\n",
       " 10153: True,\n",
       " 10155: True,\n",
       " 10159: True,\n",
       " 10165: True,\n",
       " 1974: True,\n",
       " 10167: True,\n",
       " 10177: True,\n",
       " 1993: True,\n",
       " 1999: True,\n",
       " 2002: True,\n",
       " 10199: True,\n",
       " 2009: True,\n",
       " 2011: True,\n",
       " 2013: True,\n",
       " 10207: True,\n",
       " 10211: True,\n",
       " 10212: True,\n",
       " 2024: True,\n",
       " 2025: True,\n",
       " 10222: True,\n",
       " 11261: True,\n",
       " 10225: True,\n",
       " 2034: True,\n",
       " 2037: True,\n",
       " 10230: True,\n",
       " 10233: True,\n",
       " 2042: True,\n",
       " 3071: True,\n",
       " 10238: True,\n",
       " 2049: True,\n",
       " 10244: True,\n",
       " 10246: True,\n",
       " 3073: True,\n",
       " 2056: True,\n",
       " 10251: True,\n",
       " 1709: True,\n",
       " 10257: True,\n",
       " 10258: True,\n",
       " 10265: True,\n",
       " 2074: True,\n",
       " 10268: True,\n",
       " 2078: True,\n",
       " 2080: True,\n",
       " 10274: True,\n",
       " 10277: True,\n",
       " 10281: True,\n",
       " 10283: True,\n",
       " 3080: True,\n",
       " 10291: True,\n",
       " 2101: True,\n",
       " 2103: True,\n",
       " 10299: True,\n",
       " 10303: True,\n",
       " 2112: True,\n",
       " 2113: True,\n",
       " 10307: True,\n",
       " 10311: True,\n",
       " 10316: True,\n",
       " 10320: True,\n",
       " 2129: True,\n",
       " 10322: True,\n",
       " 2131: True,\n",
       " 2134: True,\n",
       " 11279: True,\n",
       " 10332: True,\n",
       " 9914: True,\n",
       " 10335: True,\n",
       " 10339: True,\n",
       " 617: True,\n",
       " 8255: True,\n",
       " 10349: True,\n",
       " 2159: True,\n",
       " 10352: True,\n",
       " 10355: True,\n",
       " 10357: True,\n",
       " 2171: True,\n",
       " 10367: True,\n",
       " 10368: True,\n",
       " 10371: True,\n",
       " 10372: True,\n",
       " 10374: True,\n",
       " 10383: True,\n",
       " 2193: True,\n",
       " 2194: True,\n",
       " 10388: True,\n",
       " 2199: True,\n",
       " 2201: True,\n",
       " 10394: True,\n",
       " 10397: True,\n",
       " 2206: True,\n",
       " 10401: True,\n",
       " 10406: True,\n",
       " 10412: True,\n",
       " 10415: True,\n",
       " 10416: True,\n",
       " 10419: True,\n",
       " 3102: True,\n",
       " 10429: True,\n",
       " 10430: True,\n",
       " 2239: True,\n",
       " 2241: True,\n",
       " 10434: True,\n",
       " 10437: True,\n",
       " 2246: True,\n",
       " 10442: True,\n",
       " 2253: True,\n",
       " 10446: True,\n",
       " 10447: True,\n",
       " 10448: True,\n",
       " 2259: True,\n",
       " 1742: True,\n",
       " 10459: True,\n",
       " 2270: True,\n",
       " 2271: True,\n",
       " 10465: True,\n",
       " 2278: True,\n",
       " 10473: True,\n",
       " 2282: True,\n",
       " 2285: True,\n",
       " 2286: True,\n",
       " 2289: True,\n",
       " 2290: True,\n",
       " 10483: True,\n",
       " 8574: True,\n",
       " 2297: True,\n",
       " 2300: True,\n",
       " 2301: True,\n",
       " 10497: True,\n",
       " 2307: True,\n",
       " 2311: True,\n",
       " 2312: True,\n",
       " 10505: True,\n",
       " 10507: True,\n",
       " 2316: True,\n",
       " 2322: True,\n",
       " 2324: True,\n",
       " 10519: True,\n",
       " 10520: True,\n",
       " 10523: True,\n",
       " 10524: True,\n",
       " 2333: True,\n",
       " 10526: True,\n",
       " 2337: True,\n",
       " 2339: True,\n",
       " 2357: True,\n",
       " 2361: True,\n",
       " 10554: True,\n",
       " 2370: True,\n",
       " 2371: True,\n",
       " 2372: True,\n",
       " 10571: True,\n",
       " 2380: True,\n",
       " 10573: True,\n",
       " 10574: True,\n",
       " 10580: True,\n",
       " 10582: True,\n",
       " 10583: True,\n",
       " 10585: True,\n",
       " 2399: True,\n",
       " 2400: True,\n",
       " 2403: True,\n",
       " 2406: True,\n",
       " 10599: True,\n",
       " 10602: True,\n",
       " 10611: True,\n",
       " 2421: True,\n",
       " 9961: True,\n",
       " 10617: True,\n",
       " 10619: True,\n",
       " 10621: True,\n",
       " 10626: True,\n",
       " 2435: True,\n",
       " 2436: True,\n",
       " 2438: True,\n",
       " 10631: True,\n",
       " 10634: True,\n",
       " 2447: True,\n",
       " 10644: True,\n",
       " 10647: True,\n",
       " 10648: True,\n",
       " 10649: True,\n",
       " 2461: True,\n",
       " 10656: True,\n",
       " 10663: True,\n",
       " 2474: True,\n",
       " 2481: True,\n",
       " 10674: True,\n",
       " 10677: True,\n",
       " 10678: True,\n",
       " 10679: True,\n",
       " 2490: True,\n",
       " 10683: True,\n",
       " 2492: True,\n",
       " 2495: True,\n",
       " 2502: True,\n",
       " 10696: True,\n",
       " 10708: True,\n",
       " 2519: True,\n",
       " 10713: True,\n",
       " 2532: True,\n",
       " 10725: True,\n",
       " 2536: True,\n",
       " 2539: True,\n",
       " 10734: True,\n",
       " 2544: True,\n",
       " 10737: True,\n",
       " 2548: True,\n",
       " 10745: True,\n",
       " 10746: True,\n",
       " 2557: True,\n",
       " 10750: True,\n",
       " 10751: True,\n",
       " 10753: True,\n",
       " 10756: True,\n",
       " 10757: True,\n",
       " 2566: True,\n",
       " 2568: True,\n",
       " 2569: True,\n",
       " 2570: True,\n",
       " 10763: True,\n",
       " 2577: True,\n",
       " 10770: True,\n",
       " 8622: True,\n",
       " 2583: True,\n",
       " 2587: True,\n",
       " 2590: True,\n",
       " 10785: True,\n",
       " 10787: True,\n",
       " 10791: True,\n",
       " 10792: True,\n",
       " 2601: True,\n",
       " 2604: True,\n",
       " 2610: True,\n",
       " 2615: True,\n",
       " 2618: True,\n",
       " 10811: True,\n",
       " 2620: True,\n",
       " 2622: True,\n",
       " 2624: True,\n",
       " 2626: True,\n",
       " 10820: True,\n",
       " 10824: True,\n",
       " 10827: True,\n",
       " 2636: True,\n",
       " 10832: True,\n",
       " 10833: True,\n",
       " 10834: True,\n",
       " 2645: True,\n",
       " 2647: True,\n",
       " 10840: True,\n",
       " 10843: True,\n",
       " 2658: True,\n",
       " 10851: True,\n",
       " 10858: True,\n",
       " 10860: True,\n",
       " 10863: True,\n",
       " 2672: True,\n",
       " 10866: True,\n",
       " 10867: True,\n",
       " 11273: True,\n",
       " 10869: True,\n",
       " 10870: True,\n",
       " 10872: True,\n",
       " 2681: True,\n",
       " 10876: True,\n",
       " 11370: True,\n",
       " 10883: True,\n",
       " 10885: True,\n",
       " 10892: True,\n",
       " 2713: True,\n",
       " 2714: True,\n",
       " 10909: True,\n",
       " 10911: True,\n",
       " 10913: True,\n",
       " 2723: True,\n",
       " 2724: True,\n",
       " 11377: True,\n",
       " 2731: True,\n",
       " 10927: True,\n",
       " 10928: True,\n",
       " 2739: True,\n",
       " 4553: True,\n",
       " 2744: True,\n",
       " 10937: True,\n",
       " 2746: True,\n",
       " 1823: True,\n",
       " 2750: True,\n",
       " 10945: True,\n",
       " 10948: True,\n",
       " 10949: True,\n",
       " 10953: True,\n",
       " 2762: True,\n",
       " 10958: True,\n",
       " 10961: True,\n",
       " 2771: True,\n",
       " 462: True,\n",
       " 2776: True,\n",
       " ...}"
      ]
     },
     "execution_count": 16,
     "metadata": {},
     "output_type": "execute_result"
    }
   ],
   "source": [
    "auser_dict"
   ]
  },
  {
   "cell_type": "code",
   "execution_count": 17,
   "metadata": {
    "collapsed": false
   },
   "outputs": [],
   "source": [
    "auser_df = pd.DataFrame.from_dict(auser_dict, orient='index').reset_index()"
   ]
  },
  {
   "cell_type": "code",
   "execution_count": 18,
   "metadata": {
    "collapsed": false
   },
   "outputs": [
    {
     "data": {
      "text/html": [
       "<div>\n",
       "<table border=\"1\" class=\"dataframe\">\n",
       "  <thead>\n",
       "    <tr style=\"text-align: right;\">\n",
       "      <th></th>\n",
       "      <th>index</th>\n",
       "      <th>0</th>\n",
       "    </tr>\n",
       "  </thead>\n",
       "  <tbody>\n",
       "    <tr>\n",
       "      <th>0</th>\n",
       "      <td>8192</td>\n",
       "      <td>True</td>\n",
       "    </tr>\n",
       "    <tr>\n",
       "      <th>1</th>\n",
       "      <td>2</td>\n",
       "      <td>True</td>\n",
       "    </tr>\n",
       "    <tr>\n",
       "      <th>2</th>\n",
       "      <td>8196</td>\n",
       "      <td>True</td>\n",
       "    </tr>\n",
       "    <tr>\n",
       "      <th>3</th>\n",
       "      <td>8201</td>\n",
       "      <td>True</td>\n",
       "    </tr>\n",
       "    <tr>\n",
       "      <th>4</th>\n",
       "      <td>10</td>\n",
       "      <td>True</td>\n",
       "    </tr>\n",
       "  </tbody>\n",
       "</table>\n",
       "</div>"
      ],
      "text/plain": [
       "   index     0\n",
       "0   8192  True\n",
       "1      2  True\n",
       "2   8196  True\n",
       "3   8201  True\n",
       "4     10  True"
      ]
     },
     "execution_count": 18,
     "metadata": {},
     "output_type": "execute_result"
    }
   ],
   "source": [
    "auser_df.head()"
   ]
  },
  {
   "cell_type": "code",
   "execution_count": 19,
   "metadata": {
    "collapsed": true
   },
   "outputs": [],
   "source": [
    "auser_df.rename(columns={0: 'active','index': 'user_id' }, inplace=True)"
   ]
  },
  {
   "cell_type": "code",
   "execution_count": 20,
   "metadata": {
    "collapsed": false
   },
   "outputs": [
    {
     "data": {
      "text/plain": [
       "2248"
      ]
     },
     "execution_count": 20,
     "metadata": {},
     "output_type": "execute_result"
    }
   ],
   "source": [
    "auser_df.active.sum()"
   ]
  },
  {
   "cell_type": "code",
   "execution_count": 21,
   "metadata": {
    "collapsed": true
   },
   "outputs": [],
   "source": [
    "df = users_df.merge(auser_df, how='left', on='user_id')\n",
    "df = df.merge(engaged_3x, how='left', on='user_id') \n",
    "df.login_counts = df.login_counts.fillna(0)\n",
    "df.active = df.active.fillna(False).astype('int')"
   ]
  },
  {
   "cell_type": "code",
   "execution_count": 22,
   "metadata": {
    "collapsed": false
   },
   "outputs": [
    {
     "data": {
      "text/html": [
       "<div>\n",
       "<table border=\"1\" class=\"dataframe\">\n",
       "  <thead>\n",
       "    <tr style=\"text-align: right;\">\n",
       "      <th></th>\n",
       "      <th>user_id</th>\n",
       "      <th>creation_time</th>\n",
       "      <th>name</th>\n",
       "      <th>email</th>\n",
       "      <th>creation_source</th>\n",
       "      <th>last_session_creation_time</th>\n",
       "      <th>opted_in_to_mailing_list</th>\n",
       "      <th>enabled_for_marketing_drip</th>\n",
       "      <th>org_id</th>\n",
       "      <th>invited_by_user_id</th>\n",
       "      <th>active</th>\n",
       "      <th>login_counts</th>\n",
       "    </tr>\n",
       "  </thead>\n",
       "  <tbody>\n",
       "    <tr>\n",
       "      <th>0</th>\n",
       "      <td>1</td>\n",
       "      <td>2014-04-22 03:53:30</td>\n",
       "      <td>Clausen August</td>\n",
       "      <td>AugustCClausen@yahoo.com</td>\n",
       "      <td>GUEST_INVITE</td>\n",
       "      <td>1.398139e+09</td>\n",
       "      <td>1</td>\n",
       "      <td>0</td>\n",
       "      <td>11</td>\n",
       "      <td>10803.0</td>\n",
       "      <td>0</td>\n",
       "      <td>0.0</td>\n",
       "    </tr>\n",
       "    <tr>\n",
       "      <th>1</th>\n",
       "      <td>2</td>\n",
       "      <td>2013-11-15 03:45:04</td>\n",
       "      <td>Poole Matthew</td>\n",
       "      <td>MatthewPoole@gustr.com</td>\n",
       "      <td>ORG_INVITE</td>\n",
       "      <td>1.396238e+09</td>\n",
       "      <td>0</td>\n",
       "      <td>0</td>\n",
       "      <td>1</td>\n",
       "      <td>316.0</td>\n",
       "      <td>1</td>\n",
       "      <td>14.0</td>\n",
       "    </tr>\n",
       "    <tr>\n",
       "      <th>2</th>\n",
       "      <td>3</td>\n",
       "      <td>2013-03-19 23:14:52</td>\n",
       "      <td>Bottrill Mitchell</td>\n",
       "      <td>MitchellBottrill@gustr.com</td>\n",
       "      <td>ORG_INVITE</td>\n",
       "      <td>1.363735e+09</td>\n",
       "      <td>0</td>\n",
       "      <td>0</td>\n",
       "      <td>94</td>\n",
       "      <td>1525.0</td>\n",
       "      <td>0</td>\n",
       "      <td>0.0</td>\n",
       "    </tr>\n",
       "    <tr>\n",
       "      <th>3</th>\n",
       "      <td>4</td>\n",
       "      <td>2013-05-21 08:09:28</td>\n",
       "      <td>Clausen Nicklas</td>\n",
       "      <td>NicklasSClausen@yahoo.com</td>\n",
       "      <td>GUEST_INVITE</td>\n",
       "      <td>1.369210e+09</td>\n",
       "      <td>0</td>\n",
       "      <td>0</td>\n",
       "      <td>1</td>\n",
       "      <td>5151.0</td>\n",
       "      <td>0</td>\n",
       "      <td>0.0</td>\n",
       "    </tr>\n",
       "    <tr>\n",
       "      <th>4</th>\n",
       "      <td>5</td>\n",
       "      <td>2013-01-17 10:14:20</td>\n",
       "      <td>Raw Grace</td>\n",
       "      <td>GraceRaw@yahoo.com</td>\n",
       "      <td>GUEST_INVITE</td>\n",
       "      <td>1.358850e+09</td>\n",
       "      <td>0</td>\n",
       "      <td>0</td>\n",
       "      <td>193</td>\n",
       "      <td>5240.0</td>\n",
       "      <td>0</td>\n",
       "      <td>0.0</td>\n",
       "    </tr>\n",
       "  </tbody>\n",
       "</table>\n",
       "</div>"
      ],
      "text/plain": [
       "   user_id        creation_time               name  \\\n",
       "0        1  2014-04-22 03:53:30     Clausen August   \n",
       "1        2  2013-11-15 03:45:04      Poole Matthew   \n",
       "2        3  2013-03-19 23:14:52  Bottrill Mitchell   \n",
       "3        4  2013-05-21 08:09:28    Clausen Nicklas   \n",
       "4        5  2013-01-17 10:14:20          Raw Grace   \n",
       "\n",
       "                        email creation_source  last_session_creation_time  \\\n",
       "0    AugustCClausen@yahoo.com    GUEST_INVITE                1.398139e+09   \n",
       "1      MatthewPoole@gustr.com      ORG_INVITE                1.396238e+09   \n",
       "2  MitchellBottrill@gustr.com      ORG_INVITE                1.363735e+09   \n",
       "3   NicklasSClausen@yahoo.com    GUEST_INVITE                1.369210e+09   \n",
       "4          GraceRaw@yahoo.com    GUEST_INVITE                1.358850e+09   \n",
       "\n",
       "   opted_in_to_mailing_list  enabled_for_marketing_drip  org_id  \\\n",
       "0                         1                           0      11   \n",
       "1                         0                           0       1   \n",
       "2                         0                           0      94   \n",
       "3                         0                           0       1   \n",
       "4                         0                           0     193   \n",
       "\n",
       "   invited_by_user_id  active  login_counts  \n",
       "0             10803.0       0           0.0  \n",
       "1               316.0       1          14.0  \n",
       "2              1525.0       0           0.0  \n",
       "3              5151.0       0           0.0  \n",
       "4              5240.0       0           0.0  "
      ]
     },
     "execution_count": 22,
     "metadata": {},
     "output_type": "execute_result"
    }
   ],
   "source": [
    "df.head()"
   ]
  },
  {
   "cell_type": "code",
   "execution_count": 23,
   "metadata": {
    "collapsed": false
   },
   "outputs": [
    {
     "data": {
      "text/plain": [
       "(12000, 12)"
      ]
     },
     "execution_count": 23,
     "metadata": {},
     "output_type": "execute_result"
    }
   ],
   "source": [
    "df.shape"
   ]
  },
  {
   "cell_type": "code",
   "execution_count": 24,
   "metadata": {
    "collapsed": false
   },
   "outputs": [
    {
     "name": "stdout",
     "output_type": "stream",
     "text": [
      "Adopted User Percentage: 0\n"
     ]
    }
   ],
   "source": [
    "adopted_user_percentage = len(df[df['active'] == True]) / len(df)\n",
    "print('Adopted User Percentage: {0}'.format(adopted_user_percentage))"
   ]
  },
  {
   "cell_type": "code",
   "execution_count": 25,
   "metadata": {
    "collapsed": false
   },
   "outputs": [
    {
     "data": {
      "text/plain": [
       "ORG_INVITE            4254\n",
       "GUEST_INVITE          2163\n",
       "PERSONAL_PROJECTS     2111\n",
       "SIGNUP                2087\n",
       "SIGNUP_GOOGLE_AUTH    1385\n",
       "Name: creation_source, dtype: int64"
      ]
     },
     "execution_count": 25,
     "metadata": {},
     "output_type": "execute_result"
    }
   ],
   "source": [
    "df.creation_source.value_counts()"
   ]
  },
  {
   "cell_type": "code",
   "execution_count": 26,
   "metadata": {
    "collapsed": false
   },
   "outputs": [
    {
     "data": {
      "image/png": "[encoded data removed]",
      "text/plain": [
       "<matplotlib.figure.Figure at 0x116f43390>"
      ]
     },
     "metadata": {},
     "output_type": "display_data"
    }
   ],
   "source": [
    "sns.countplot(x='creation_source', hue='active', data=df)\n",
    "plt.title('Creation Source')\n",
    "plt.show()"
   ]
  },
  {
   "cell_type": "code",
   "execution_count": 27,
   "metadata": {
    "collapsed": false
   },
   "outputs": [
    {
     "data": {
      "image/png": "[encoded data removed]",
      "text/plain": [
       "<matplotlib.figure.Figure at 0x1186afed0>"
      ]
     },
     "metadata": {},
     "output_type": "display_data"
    }
   ],
   "source": [
    "sns.countplot(x='enabled_for_marketing_drip', hue='active', data=df)\n",
    "plt.title('Marketing Drip')\n",
    "plt.show()"
   ]
  },
  {
   "cell_type": "code",
   "execution_count": 28,
   "metadata": {
    "collapsed": false
   },
   "outputs": [
    {
     "data": {
      "image/png": "[encoded data removed]",
      "text/plain": [
       "<matplotlib.figure.Figure at 0x10a20f3d0>"
      ]
     },
     "metadata": {},
     "output_type": "display_data"
    }
   ],
   "source": [
    "sns.countplot(x='opted_in_to_mailing_list', hue='active', data=df)\n",
    "plt.title('Mailing List')\n",
    "plt.show()"
   ]
  },
  {
   "cell_type": "code",
   "execution_count": 29,
   "metadata": {
    "collapsed": false
   },
   "outputs": [
    {
     "name": "stdout",
     "output_type": "stream",
     "text": [
      "<class 'pandas.core.frame.DataFrame'>\n",
      "Int64Index: 12000 entries, 0 to 11999\n",
      "Data columns (total 12 columns):\n",
      "user_id                       12000 non-null int64\n",
      "creation_time                 12000 non-null object\n",
      "name                          12000 non-null object\n",
      "email                         12000 non-null object\n",
      "creation_source               12000 non-null object\n",
      "last_session_creation_time    8823 non-null float64\n",
      "opted_in_to_mailing_list      12000 non-null int64\n",
      "enabled_for_marketing_drip    12000 non-null int64\n",
      "org_id                        12000 non-null int64\n",
      "invited_by_user_id            6417 non-null float64\n",
      "active                        12000 non-null int64\n",
      "login_counts                  12000 non-null float64\n",
      "dtypes: float64(3), int64(5), object(4)\n",
      "memory usage: 1.2+ MB\n"
     ]
    }
   ],
   "source": [
    "#gots to make some dummies\n",
    "df.info()"
   ]
  },
  {
   "cell_type": "code",
   "execution_count": 30,
   "metadata": {
    "collapsed": false
   },
   "outputs": [],
   "source": [
    "df.invited_by_user_id = df.invited_by_user_id.fillna(0)\n",
    "df = df.drop(['user_id','last_session_creation_time', 'name', 'email','creation_time','login_counts'], axis=1)"
   ]
  },
  {
   "cell_type": "code",
   "execution_count": 31,
   "metadata": {
    "collapsed": false
   },
   "outputs": [
    {
     "name": "stdout",
     "output_type": "stream",
     "text": [
      "<class 'pandas.core.frame.DataFrame'>\n",
      "Int64Index: 12000 entries, 0 to 11999\n",
      "Data columns (total 6 columns):\n",
      "creation_source               12000 non-null object\n",
      "opted_in_to_mailing_list      12000 non-null int64\n",
      "enabled_for_marketing_drip    12000 non-null int64\n",
      "org_id                        12000 non-null int64\n",
      "invited_by_user_id            12000 non-null float64\n",
      "active                        12000 non-null int64\n",
      "dtypes: float64(1), int64(4), object(1)\n",
      "memory usage: 656.2+ KB\n"
     ]
    }
   ],
   "source": [
    "df.info()"
   ]
  },
  {
   "cell_type": "code",
   "execution_count": 32,
   "metadata": {
    "collapsed": false
   },
   "outputs": [],
   "source": [
    "df = pd.get_dummies(df)"
   ]
  },
  {
   "cell_type": "code",
   "execution_count": 33,
   "metadata": {
    "collapsed": false
   },
   "outputs": [
    {
     "data": {
      "text/html": [
       "<div>\n",
       "<table border=\"1\" class=\"dataframe\">\n",
       "  <thead>\n",
       "    <tr style=\"text-align: right;\">\n",
       "      <th></th>\n",
       "      <th>opted_in_to_mailing_list</th>\n",
       "      <th>enabled_for_marketing_drip</th>\n",
       "      <th>org_id</th>\n",
       "      <th>invited_by_user_id</th>\n",
       "      <th>active</th>\n",
       "      <th>creation_source_GUEST_INVITE</th>\n",
       "      <th>creation_source_ORG_INVITE</th>\n",
       "      <th>creation_source_PERSONAL_PROJECTS</th>\n",
       "      <th>creation_source_SIGNUP</th>\n",
       "      <th>creation_source_SIGNUP_GOOGLE_AUTH</th>\n",
       "    </tr>\n",
       "  </thead>\n",
       "  <tbody>\n",
       "    <tr>\n",
       "      <th>0</th>\n",
       "      <td>1</td>\n",
       "      <td>0</td>\n",
       "      <td>11</td>\n",
       "      <td>10803.0</td>\n",
       "      <td>0</td>\n",
       "      <td>1.0</td>\n",
       "      <td>0.0</td>\n",
       "      <td>0.0</td>\n",
       "      <td>0.0</td>\n",
       "      <td>0.0</td>\n",
       "    </tr>\n",
       "    <tr>\n",
       "      <th>1</th>\n",
       "      <td>0</td>\n",
       "      <td>0</td>\n",
       "      <td>1</td>\n",
       "      <td>316.0</td>\n",
       "      <td>1</td>\n",
       "      <td>0.0</td>\n",
       "      <td>1.0</td>\n",
       "      <td>0.0</td>\n",
       "      <td>0.0</td>\n",
       "      <td>0.0</td>\n",
       "    </tr>\n",
       "    <tr>\n",
       "      <th>2</th>\n",
       "      <td>0</td>\n",
       "      <td>0</td>\n",
       "      <td>94</td>\n",
       "      <td>1525.0</td>\n",
       "      <td>0</td>\n",
       "      <td>0.0</td>\n",
       "      <td>1.0</td>\n",
       "      <td>0.0</td>\n",
       "      <td>0.0</td>\n",
       "      <td>0.0</td>\n",
       "    </tr>\n",
       "    <tr>\n",
       "      <th>3</th>\n",
       "      <td>0</td>\n",
       "      <td>0</td>\n",
       "      <td>1</td>\n",
       "      <td>5151.0</td>\n",
       "      <td>0</td>\n",
       "      <td>1.0</td>\n",
       "      <td>0.0</td>\n",
       "      <td>0.0</td>\n",
       "      <td>0.0</td>\n",
       "      <td>0.0</td>\n",
       "    </tr>\n",
       "    <tr>\n",
       "      <th>4</th>\n",
       "      <td>0</td>\n",
       "      <td>0</td>\n",
       "      <td>193</td>\n",
       "      <td>5240.0</td>\n",
       "      <td>0</td>\n",
       "      <td>1.0</td>\n",
       "      <td>0.0</td>\n",
       "      <td>0.0</td>\n",
       "      <td>0.0</td>\n",
       "      <td>0.0</td>\n",
       "    </tr>\n",
       "  </tbody>\n",
       "</table>\n",
       "</div>"
      ],
      "text/plain": [
       "   opted_in_to_mailing_list  enabled_for_marketing_drip  org_id  \\\n",
       "0                         1                           0      11   \n",
       "1                         0                           0       1   \n",
       "2                         0                           0      94   \n",
       "3                         0                           0       1   \n",
       "4                         0                           0     193   \n",
       "\n",
       "   invited_by_user_id  active  creation_source_GUEST_INVITE  \\\n",
       "0             10803.0       0                           1.0   \n",
       "1               316.0       1                           0.0   \n",
       "2              1525.0       0                           0.0   \n",
       "3              5151.0       0                           1.0   \n",
       "4              5240.0       0                           1.0   \n",
       "\n",
       "   creation_source_ORG_INVITE  creation_source_PERSONAL_PROJECTS  \\\n",
       "0                         0.0                                0.0   \n",
       "1                         1.0                                0.0   \n",
       "2                         1.0                                0.0   \n",
       "3                         0.0                                0.0   \n",
       "4                         0.0                                0.0   \n",
       "\n",
       "   creation_source_SIGNUP  creation_source_SIGNUP_GOOGLE_AUTH  \n",
       "0                     0.0                                 0.0  \n",
       "1                     0.0                                 0.0  \n",
       "2                     0.0                                 0.0  \n",
       "3                     0.0                                 0.0  \n",
       "4                     0.0                                 0.0  "
      ]
     },
     "execution_count": 33,
     "metadata": {},
     "output_type": "execute_result"
    }
   ],
   "source": [
    "df.head()"
   ]
  },
  {
   "cell_type": "code",
   "execution_count": 34,
   "metadata": {
    "collapsed": true
   },
   "outputs": [],
   "source": [
    "from sklearn.model_selection import train_test_split\n",
    "from sklearn.metrics import classification_report\n",
    "from sklearn.metrics import accuracy_score\n",
    "from sklearn.linear_model import LogisticRegression\n",
    "from sklearn.metrics import roc_curve, roc_auc_score\n",
    "from sklearn.model_selection import GridSearchCV\n",
    "from sklearn.ensemble import GradientBoostingClassifier"
   ]
  },
  {
   "cell_type": "code",
   "execution_count": 35,
   "metadata": {
    "collapsed": true
   },
   "outputs": [],
   "source": [
    "# Split data\n",
    "y = np.array(df.active)\n",
    "X = np.array(df.drop('active', axis=1))\n",
    "X_train, X_test, y_train, y_test = train_test_split(X, y, test_size=0.33, random_state=42)"
   ]
  },
  {
   "cell_type": "code",
   "execution_count": 36,
   "metadata": {
    "collapsed": false
   },
   "outputs": [
    {
     "data": {
      "text/plain": [
       "GridSearchCV(cv=None, error_score='raise',\n",
       "       estimator=LogisticRegression(C=1.0, class_weight=None, dual=False, fit_intercept=True,\n",
       "          intercept_scaling=1, max_iter=100, multi_class='ovr', n_jobs=1,\n",
       "          penalty='l2', random_state=None, solver='liblinear', tol=0.0001,\n",
       "          verbose=0, warm_start=False),\n",
       "       fit_params=None, iid=True, n_jobs=1,\n",
       "       param_grid={'C': [0.001, 0.01, 0.1, 1, 10, 100, 1000]},\n",
       "       pre_dispatch='2*n_jobs', refit=True, return_train_score='warn',\n",
       "       scoring=None, verbose=0)"
      ]
     },
     "execution_count": 36,
     "metadata": {},
     "output_type": "execute_result"
    }
   ],
   "source": [
    "# Grid Search\n",
    "param_grid = {'C': [0.001, 0.01, 0.1, 1, 10, 100, 1000] }\n",
    "logc = GridSearchCV(LogisticRegression(penalty='l2'), param_grid)\n",
    "logc.fit(X_train, y_train)"
   ]
  },
  {
   "cell_type": "code",
   "execution_count": 37,
   "metadata": {
    "collapsed": false
   },
   "outputs": [
    {
     "name": "stdout",
     "output_type": "stream",
     "text": [
      "('Best C:', 0.001)\n"
     ]
    }
   ],
   "source": [
    "# View best hyperparameters\n",
    "print('Best C:', logc.best_estimator_.get_params()['C'])"
   ]
  },
  {
   "cell_type": "code",
   "execution_count": 38,
   "metadata": {
    "collapsed": false
   },
   "outputs": [
    {
     "name": "stdout",
     "output_type": "stream",
     "text": [
      "             precision    recall  f1-score   support\n",
      "\n",
      "   Inactive       0.86      0.47      0.61      3224\n",
      "     Active       0.22      0.65      0.33       736\n",
      "\n",
      "avg / total       0.74      0.51      0.56      3960\n",
      "\n"
     ]
    }
   ],
   "source": [
    "#Run the Logistic regression with the best C\n",
    "log_model = LogisticRegression(C=0.001, class_weight='balanced')\n",
    "log_model.fit(X_train, y_train)\n",
    "y_pred=log_model.predict(X_test)\n",
    "print(classification_report(y_test, y_pred, target_names=['Inactive', 'Active']))"
   ]
  },
  {
   "cell_type": "code",
   "execution_count": 39,
   "metadata": {
    "collapsed": false
   },
   "outputs": [
    {
     "name": "stdout",
     "output_type": "stream",
     "text": [
      "AUC: 0.588057933367\n"
     ]
    }
   ],
   "source": [
    "#ROC Score\n",
    "fpr, tpr, thresholds = roc_curve(y_train, log_model.predict_proba(X_train)[:, 1])\n",
    "auc = roc_auc_score(y_test, log_model.predict_proba(X_test)[:, 1])\n",
    "print(\"AUC: {}\".format(auc))"
   ]
  },
  {
   "cell_type": "code",
   "execution_count": 40,
   "metadata": {
    "collapsed": false
   },
   "outputs": [
    {
     "data": {
      "image/png": "[encoded data removed]",
      "text/plain": [
       "<matplotlib.figure.Figure at 0x119ed14d0>"
      ]
     },
     "metadata": {},
     "output_type": "display_data"
    }
   ],
   "source": [
    "plt.figure()\n",
    "plt.plot(fpr, tpr, color='red', lw=2, label='Area under ROC: {:.2f}'.format(auc))\n",
    "plt.plot([0,1], [0,1], color='navy', lw=2, linestyle='--')\n",
    "plt.xlim([0,1])\n",
    "plt.ylim([0,1])\n",
    "plt.xlabel('False Positive Rate')\n",
    "plt.ylabel('True Positive Rate')\n",
    "plt.legend(loc='lower right')\n",
    "plt.title('ROC curve')\n",
    "plt.show()"
   ]
  },
  {
   "cell_type": "code",
   "execution_count": 41,
   "metadata": {
    "collapsed": false
   },
   "outputs": [
    {
     "data": {
      "text/html": [
       "<div>\n",
       "<table border=\"1\" class=\"dataframe\">\n",
       "  <thead>\n",
       "    <tr style=\"text-align: right;\">\n",
       "      <th></th>\n",
       "      <th>coefficient</th>\n",
       "    </tr>\n",
       "    <tr>\n",
       "      <th>feature</th>\n",
       "      <th></th>\n",
       "    </tr>\n",
       "  </thead>\n",
       "  <tbody>\n",
       "    <tr>\n",
       "      <th>creation_source_GUEST_INVITE</th>\n",
       "      <td>0.041098</td>\n",
       "    </tr>\n",
       "    <tr>\n",
       "      <th>creation_source_SIGNUP_GOOGLE_AUTH</th>\n",
       "      <td>0.033233</td>\n",
       "    </tr>\n",
       "    <tr>\n",
       "      <th>creation_source_SIGNUP</th>\n",
       "      <td>0.023621</td>\n",
       "    </tr>\n",
       "    <tr>\n",
       "      <th>enabled_for_marketing_drip</th>\n",
       "      <td>0.011039</td>\n",
       "    </tr>\n",
       "    <tr>\n",
       "      <th>opted_in_to_mailing_list</th>\n",
       "      <td>0.007461</td>\n",
       "    </tr>\n",
       "    <tr>\n",
       "      <th>org_id</th>\n",
       "      <td>0.001096</td>\n",
       "    </tr>\n",
       "    <tr>\n",
       "      <th>invited_by_user_id</th>\n",
       "      <td>0.000005</td>\n",
       "    </tr>\n",
       "    <tr>\n",
       "      <th>creation_source_ORG_INVITE</th>\n",
       "      <td>-0.050931</td>\n",
       "    </tr>\n",
       "    <tr>\n",
       "      <th>creation_source_PERSONAL_PROJECTS</th>\n",
       "      <td>-0.152072</td>\n",
       "    </tr>\n",
       "  </tbody>\n",
       "</table>\n",
       "</div>"
      ],
      "text/plain": [
       "                                    coefficient\n",
       "feature                                        \n",
       "creation_source_GUEST_INVITE           0.041098\n",
       "creation_source_SIGNUP_GOOGLE_AUTH     0.033233\n",
       "creation_source_SIGNUP                 0.023621\n",
       "enabled_for_marketing_drip             0.011039\n",
       "opted_in_to_mailing_list               0.007461\n",
       "org_id                                 0.001096\n",
       "invited_by_user_id                     0.000005\n",
       "creation_source_ORG_INVITE            -0.050931\n",
       "creation_source_PERSONAL_PROJECTS     -0.152072"
      ]
     },
     "execution_count": 41,
     "metadata": {},
     "output_type": "execute_result"
    }
   ],
   "source": [
    "# Present features importance by their corresponding coefficients in logistic regression\n",
    "coef = list(zip(df.drop('active', axis=1).columns, log_model.coef_[0]))\n",
    "log_fet  = pd.DataFrame(coef, columns=['feature', 'coefficient'])\n",
    "\n",
    "log_fet.set_index('feature').sort_values('coefficient', ascending=False)"
   ]
  },
  {
   "cell_type": "code",
   "execution_count": 42,
   "metadata": {
    "collapsed": false
   },
   "outputs": [
    {
     "data": {
      "text/plain": [
       "<matplotlib.text.Text at 0x11a1bffd0>"
      ]
     },
     "execution_count": 42,
     "metadata": {},
     "output_type": "execute_result"
    },
    {
     "data": {
      "image/png": "[encoded data removed]",
      "text/plain": [
       "<matplotlib.figure.Figure at 0x119e18b90>"
      ]
     },
     "metadata": {},
     "output_type": "display_data"
    }
   ],
   "source": [
    "log_fet.set_index('feature').sort_values('coefficient').plot(kind='barh', title='Feature Importances')\n",
    "plt.ylabel('Feature Importance Score')"
   ]
  },
  {
   "cell_type": "code",
   "execution_count": 43,
   "metadata": {
    "collapsed": false
   },
   "outputs": [
    {
     "data": {
      "text/plain": [
       "{'learning_rate': 0.01, 'n_estimators': 300}"
      ]
     },
     "execution_count": 43,
     "metadata": {},
     "output_type": "execute_result"
    }
   ],
   "source": [
    "# Use gridsearch for tuning parameters\n",
    "gb = GradientBoostingClassifier()\n",
    "parameters = {'learning_rate':[0.01, 0.1, 0.2, 0.3], 'n_estimators':[150, 200, 250, 300]}\n",
    "gbc = GridSearchCV(gb, parameters, cv=5, scoring='accuracy')\n",
    "gbc.fit(X_train, y_train)\n",
    "gbc.best_params_"
   ]
  },
  {
   "cell_type": "code",
   "execution_count": 44,
   "metadata": {
    "collapsed": false
   },
   "outputs": [
    {
     "name": "stdout",
     "output_type": "stream",
     "text": [
      "             precision    recall  f1-score   support\n",
      "\n",
      "   Inactive       0.81      1.00      0.90      3224\n",
      "   Retained       0.00      0.00      0.00       736\n",
      "\n",
      "avg / total       0.66      0.81      0.73      3960\n",
      "\n"
     ]
    }
   ],
   "source": [
    "gb = GradientBoostingClassifier(learning_rate=0.01, n_estimators=250)\n",
    "gb.fit(X_train, y_train)\n",
    "y_pred = gb.predict(X_test)\n",
    "print(classification_report(y_test, y_pred, target_names=['Inactive', 'Retained']))"
   ]
  },
  {
   "cell_type": "code",
   "execution_count": 45,
   "metadata": {
    "collapsed": false
   },
   "outputs": [
    {
     "name": "stdout",
     "output_type": "stream",
     "text": [
      "AUC: 0.599920180845\n"
     ]
    }
   ],
   "source": [
    "#ROC Score\n",
    "fpr, tpr, thresholds = roc_curve(y_train, gb.predict_proba(X_train)[:, 1])\n",
    "auc = roc_auc_score(y_test, gb.predict_proba(X_test)[:, 1])\n",
    "print(\"AUC: {}\".format(auc))"
   ]
  },
  {
   "cell_type": "code",
   "execution_count": 46,
   "metadata": {
    "collapsed": false
   },
   "outputs": [
    {
     "data": {
      "image/png": "[encoded data removed]",
      "text/plain": [
       "<matplotlib.figure.Figure at 0x11a16f590>"
      ]
     },
     "metadata": {},
     "output_type": "display_data"
    }
   ],
   "source": [
    "plt.figure()\n",
    "plt.plot(fpr, tpr, color='red', lw=2, label='Area under ROC: {:.2f}'.format(auc))\n",
    "plt.plot([0,1], [0,1], color='navy', lw=2, linestyle='--')\n",
    "plt.xlim([0,1])\n",
    "plt.ylim([0,1])\n",
    "plt.xlabel('False Positive Rate')\n",
    "plt.ylabel('True Positive Rate')\n",
    "plt.legend(loc='lower right')\n",
    "plt.title('ROC curve')\n",
    "plt.show()"
   ]
  },
  {
   "cell_type": "code",
   "execution_count": 47,
   "metadata": {
    "collapsed": false
   },
   "outputs": [
    {
     "data": {
      "text/html": [
       "<div>\n",
       "<table border=\"1\" class=\"dataframe\">\n",
       "  <thead>\n",
       "    <tr style=\"text-align: right;\">\n",
       "      <th></th>\n",
       "      <th>feature</th>\n",
       "      <th>coefficient</th>\n",
       "    </tr>\n",
       "  </thead>\n",
       "  <tbody>\n",
       "    <tr>\n",
       "      <th>2</th>\n",
       "      <td>org_id</td>\n",
       "      <td>0.479224</td>\n",
       "    </tr>\n",
       "    <tr>\n",
       "      <th>3</th>\n",
       "      <td>invited_by_user_id</td>\n",
       "      <td>0.196194</td>\n",
       "    </tr>\n",
       "    <tr>\n",
       "      <th>6</th>\n",
       "      <td>creation_source_PERSONAL_PROJECTS</td>\n",
       "      <td>0.191961</td>\n",
       "    </tr>\n",
       "    <tr>\n",
       "      <th>5</th>\n",
       "      <td>creation_source_ORG_INVITE</td>\n",
       "      <td>0.054550</td>\n",
       "    </tr>\n",
       "    <tr>\n",
       "      <th>4</th>\n",
       "      <td>creation_source_GUEST_INVITE</td>\n",
       "      <td>0.025831</td>\n",
       "    </tr>\n",
       "    <tr>\n",
       "      <th>8</th>\n",
       "      <td>creation_source_SIGNUP_GOOGLE_AUTH</td>\n",
       "      <td>0.019760</td>\n",
       "    </tr>\n",
       "    <tr>\n",
       "      <th>0</th>\n",
       "      <td>opted_in_to_mailing_list</td>\n",
       "      <td>0.017685</td>\n",
       "    </tr>\n",
       "    <tr>\n",
       "      <th>1</th>\n",
       "      <td>enabled_for_marketing_drip</td>\n",
       "      <td>0.013877</td>\n",
       "    </tr>\n",
       "    <tr>\n",
       "      <th>7</th>\n",
       "      <td>creation_source_SIGNUP</td>\n",
       "      <td>0.000917</td>\n",
       "    </tr>\n",
       "  </tbody>\n",
       "</table>\n",
       "</div>"
      ],
      "text/plain": [
       "                              feature  coefficient\n",
       "2                              org_id     0.479224\n",
       "3                  invited_by_user_id     0.196194\n",
       "6   creation_source_PERSONAL_PROJECTS     0.191961\n",
       "5          creation_source_ORG_INVITE     0.054550\n",
       "4        creation_source_GUEST_INVITE     0.025831\n",
       "8  creation_source_SIGNUP_GOOGLE_AUTH     0.019760\n",
       "0            opted_in_to_mailing_list     0.017685\n",
       "1          enabled_for_marketing_drip     0.013877\n",
       "7              creation_source_SIGNUP     0.000917"
      ]
     },
     "execution_count": 47,
     "metadata": {},
     "output_type": "execute_result"
    }
   ],
   "source": [
    "# Present features importance by their corresponding coefficients in logistic regression\n",
    "coef = list(zip(df.drop('active', axis=1).columns, gb.feature_importances_))\n",
    "fet = pd.DataFrame(coef, columns=['feature', 'coefficient'])\n",
    "fet.sort_values('coefficient', ascending=False)"
   ]
  },
  {
   "cell_type": "code",
   "execution_count": 48,
   "metadata": {
    "collapsed": false
   },
   "outputs": [
    {
     "data": {
      "text/plain": [
       "<matplotlib.text.Text at 0x11a17a7d0>"
      ]
     },
     "execution_count": 48,
     "metadata": {},
     "output_type": "execute_result"
    },
    {
     "data": {
      "image/png": "[encoded data removed]",
      "text/plain": [
       "<matplotlib.figure.Figure at 0x118957890>"
      ]
     },
     "metadata": {},
     "output_type": "display_data"
    }
   ],
   "source": [
    "fet.set_index('feature').sort_values('coefficient').plot(kind='barh', title='Feature Importances')\n",
    "plt.ylabel('Feature Importance Score')"
   ]
  },
  {
   "cell_type": "code",
   "execution_count": null,
   "metadata": {
    "collapsed": true
   },
   "outputs": [],
   "source": []
  }
 ],
 "metadata": {
  "anaconda-cloud": {},
  "kernelspec": {
   "display_name": "Python [Root]",
   "language": "python",
   "name": "Python [Root]"
  },
  "language_info": {
   "codemirror_mode": {
    "name": "ipython",
    "version": 2
   },
   "file_extension": ".py",
   "mimetype": "text/x-python",
   "name": "python",
   "nbconvert_exporter": "python",
   "pygments_lexer": "ipython2",
   "version": "2.7.12"
  }
 },
 "nbformat": 4,
 "nbformat_minor": 0
}
